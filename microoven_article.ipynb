{
 "cells": [
  {
   "cell_type": "code",
   "execution_count": 1,
   "metadata": {},
   "outputs": [
    {
     "data": {
      "text/html": [
       "<div>\n",
       "<style scoped>\n",
       "    .dataframe tbody tr th:only-of-type {\n",
       "        vertical-align: middle;\n",
       "    }\n",
       "\n",
       "    .dataframe tbody tr th {\n",
       "        vertical-align: top;\n",
       "    }\n",
       "\n",
       "    .dataframe thead th {\n",
       "        text-align: right;\n",
       "    }\n",
       "</style>\n",
       "<table border=\"1\" class=\"dataframe\">\n",
       "  <thead>\n",
       "    <tr style=\"text-align: right;\">\n",
       "      <th></th>\n",
       "      <th>s.n</th>\n",
       "      <th>NJ1</th>\n",
       "      <th>J1</th>\n",
       "      <th>J5</th>\n",
       "      <th>NS</th>\n",
       "      <th>S1</th>\n",
       "      <th>S5</th>\n",
       "      <th>ND</th>\n",
       "      <th>D1</th>\n",
       "      <th>D5</th>\n",
       "      <th>...</th>\n",
       "      <th>SE_J5</th>\n",
       "      <th>SE_NS</th>\n",
       "      <th>SE_S1</th>\n",
       "      <th>SE_S5</th>\n",
       "      <th>SE_ND</th>\n",
       "      <th>SE_D1</th>\n",
       "      <th>SE_D5</th>\n",
       "      <th>SE_NK</th>\n",
       "      <th>SE_K1</th>\n",
       "      <th>SE_K5</th>\n",
       "    </tr>\n",
       "  </thead>\n",
       "  <tbody>\n",
       "    <tr>\n",
       "      <th>0</th>\n",
       "      <td>1</td>\n",
       "      <td>71.42</td>\n",
       "      <td>64.26</td>\n",
       "      <td>14.28</td>\n",
       "      <td>64.26</td>\n",
       "      <td>64.28</td>\n",
       "      <td>7.14</td>\n",
       "      <td>85.68</td>\n",
       "      <td>71.42</td>\n",
       "      <td>14.28</td>\n",
       "      <td>...</td>\n",
       "      <td>1.748936</td>\n",
       "      <td>2.674752</td>\n",
       "      <td>1.753835</td>\n",
       "      <td>1.428</td>\n",
       "      <td>3.639134</td>\n",
       "      <td>2.674752</td>\n",
       "      <td>1.748936</td>\n",
       "      <td>3.193108</td>\n",
       "      <td>2.856</td>\n",
       "      <td>2.856</td>\n",
       "    </tr>\n",
       "    <tr>\n",
       "      <th>1</th>\n",
       "      <td>2</td>\n",
       "      <td>85.68</td>\n",
       "      <td>57.12</td>\n",
       "      <td>14.28</td>\n",
       "      <td>57.12</td>\n",
       "      <td>64.28</td>\n",
       "      <td>7.14</td>\n",
       "      <td>71.42</td>\n",
       "      <td>71.42</td>\n",
       "      <td>7.14</td>\n",
       "      <td>...</td>\n",
       "      <td>NaN</td>\n",
       "      <td>NaN</td>\n",
       "      <td>NaN</td>\n",
       "      <td>NaN</td>\n",
       "      <td>NaN</td>\n",
       "      <td>NaN</td>\n",
       "      <td>NaN</td>\n",
       "      <td>NaN</td>\n",
       "      <td>NaN</td>\n",
       "      <td>NaN</td>\n",
       "    </tr>\n",
       "    <tr>\n",
       "      <th>2</th>\n",
       "      <td>3</td>\n",
       "      <td>78.54</td>\n",
       "      <td>71.42</td>\n",
       "      <td>7.14</td>\n",
       "      <td>64.26</td>\n",
       "      <td>57.12</td>\n",
       "      <td>14.28</td>\n",
       "      <td>71.42</td>\n",
       "      <td>64.28</td>\n",
       "      <td>14.28</td>\n",
       "      <td>...</td>\n",
       "      <td>NaN</td>\n",
       "      <td>NaN</td>\n",
       "      <td>NaN</td>\n",
       "      <td>NaN</td>\n",
       "      <td>NaN</td>\n",
       "      <td>NaN</td>\n",
       "      <td>NaN</td>\n",
       "      <td>NaN</td>\n",
       "      <td>NaN</td>\n",
       "      <td>NaN</td>\n",
       "    </tr>\n",
       "    <tr>\n",
       "      <th>3</th>\n",
       "      <td>4</td>\n",
       "      <td>71.42</td>\n",
       "      <td>71.42</td>\n",
       "      <td>7.14</td>\n",
       "      <td>71.42</td>\n",
       "      <td>64.28</td>\n",
       "      <td>7.14</td>\n",
       "      <td>78.54</td>\n",
       "      <td>57.12</td>\n",
       "      <td>7.14</td>\n",
       "      <td>...</td>\n",
       "      <td>NaN</td>\n",
       "      <td>NaN</td>\n",
       "      <td>NaN</td>\n",
       "      <td>NaN</td>\n",
       "      <td>NaN</td>\n",
       "      <td>NaN</td>\n",
       "      <td>NaN</td>\n",
       "      <td>NaN</td>\n",
       "      <td>NaN</td>\n",
       "      <td>NaN</td>\n",
       "    </tr>\n",
       "    <tr>\n",
       "      <th>4</th>\n",
       "      <td>5</td>\n",
       "      <td>64.26</td>\n",
       "      <td>57.12</td>\n",
       "      <td>14.28</td>\n",
       "      <td>57.12</td>\n",
       "      <td>57.12</td>\n",
       "      <td>7.14</td>\n",
       "      <td>64.26</td>\n",
       "      <td>64.28</td>\n",
       "      <td>14.28</td>\n",
       "      <td>...</td>\n",
       "      <td>NaN</td>\n",
       "      <td>NaN</td>\n",
       "      <td>NaN</td>\n",
       "      <td>NaN</td>\n",
       "      <td>NaN</td>\n",
       "      <td>NaN</td>\n",
       "      <td>NaN</td>\n",
       "      <td>NaN</td>\n",
       "      <td>NaN</td>\n",
       "      <td>NaN</td>\n",
       "    </tr>\n",
       "  </tbody>\n",
       "</table>\n",
       "<p>5 rows × 25 columns</p>\n",
       "</div>"
      ],
      "text/plain": [
       "   s.n    NJ1     J1     J5     NS     S1     S5     ND     D1     D5  ...  \\\n",
       "0    1  71.42  64.26  14.28  64.26  64.28   7.14  85.68  71.42  14.28  ...   \n",
       "1    2  85.68  57.12  14.28  57.12  64.28   7.14  71.42  71.42   7.14  ...   \n",
       "2    3  78.54  71.42   7.14  64.26  57.12  14.28  71.42  64.28  14.28  ...   \n",
       "3    4  71.42  71.42   7.14  71.42  64.28   7.14  78.54  57.12   7.14  ...   \n",
       "4    5  64.26  57.12  14.28  57.12  57.12   7.14  64.26  64.28  14.28  ...   \n",
       "\n",
       "      SE_J5     SE_NS     SE_S1  SE_S5     SE_ND     SE_D1     SE_D5  \\\n",
       "0  1.748936  2.674752  1.753835  1.428  3.639134  2.674752  1.748936   \n",
       "1       NaN       NaN       NaN    NaN       NaN       NaN       NaN   \n",
       "2       NaN       NaN       NaN    NaN       NaN       NaN       NaN   \n",
       "3       NaN       NaN       NaN    NaN       NaN       NaN       NaN   \n",
       "4       NaN       NaN       NaN    NaN       NaN       NaN       NaN   \n",
       "\n",
       "      SE_NK  SE_K1  SE_K5  \n",
       "0  3.193108  2.856  2.856  \n",
       "1       NaN    NaN    NaN  \n",
       "2       NaN    NaN    NaN  \n",
       "3       NaN    NaN    NaN  \n",
       "4       NaN    NaN    NaN  \n",
       "\n",
       "[5 rows x 25 columns]"
      ]
     },
     "execution_count": 1,
     "metadata": {},
     "output_type": "execute_result"
    }
   ],
   "source": [
    "#Testing of Normality of a given data\n",
    "\n",
    "\n",
    "import pandas as pd\n",
    "import numpy as np\n",
    "import random as random\n",
    "from scipy.stats import shapiro ,norm \n",
    "import matplotlib.pyplot as plt\n",
    "from matplotlib.pyplot import figure\n",
    "%matplotlib inline\n",
    "df2 = pd.read_csv('germ.csv') # for standard error(SE) , we can do STDEV(B1:B10)/SQRT(COUNT(B1:B10)) in excell.\n",
    "#df2.head()\n",
    "df2"
   ]
  },
  {
   "cell_type": "code",
   "execution_count": 2,
   "metadata": {},
   "outputs": [],
   "source": [
    "#df2.set_index(\"Week\", inplace= True)\n"
   ]
  },
  {
   "cell_type": "code",
   "execution_count": 15,
   "metadata": {},
   "outputs": [],
   "source": [
    "# normality test\n",
    "#stat, p = shapiro(df2.J4)\n",
    "#print('Statistics=%.3f, p=%.3f' % (stat, p))"
   ]
  },
  {
   "cell_type": "code",
   "execution_count": null,
   "metadata": {},
   "outputs": [],
   "source": [
    "#G = df2[[\"C\"]][0:4]\n",
    "#G"
   ]
  },
  {
   "cell_type": "code",
   "execution_count": null,
   "metadata": {},
   "outputs": [],
   "source": [
    "#Q=df2.C[0:20]\n",
    "#Q"
   ]
  },
  {
   "cell_type": "code",
   "execution_count": null,
   "metadata": {},
   "outputs": [],
   "source": [
    "# normality test\n",
    "# normality test\n",
    "#stat, p = shapiro(F)\n",
    "#print('Statistics=%.3f, p=%.3f' % (stat, p))\n",
    "df2.agg({\"J1\":[\"mean\", \"median\",\"skew\",\"kurtosis\",\"std\",\"sem\"],\"J2\":[\"mean\", \"median\",\"skew\",\"kurtosis\",\"std\",\"sem\"],\"J3\":[\"mean\", \"median\",\"skew\",\"kurtosis\",\"std\",\"sem\"],\"J4\":[\"mean\", \"median\",\"skew\",\"kurtosis\",\"std\",\"sem\"],\"J5\":[\"mean\", \"median\",\"skew\",\"kurtosis\",\"std\",\"sem\"],\"S1\":[\"mean\", \"median\",\"skew\",\"kurtosis\",\"std\",\"sem\"],\"S2\":[\"mean\", \"median\",\"skew\",\"kurtosis\",\"std\",\"sem\"],\"S3\":[\"mean\", \"median\",\"skew\",\"kurtosis\",\"std\",\"sem\"],\"S4\":[\"mean\", \"median\",\"skew\",\"kurtosis\",\"std\",\"sem\"],\"S5\":[\"mean\", \"median\",\"skew\",\"kurtosis\",\"std\",\"sem\"],\"D1\":[\"mean\", \"median\",\"skew\",\"kurtosis\",\"std\",\"sem\"],\"D2\":[\"mean\", \"median\",\"skew\",\"kurtosis\",\"std\",\"sem\"],\"D3\":[\"mean\", \"median\",\"skew\",\"kurtosis\",\"std\",\"sem\"],\"D4\":[\"mean\", \"median\",\"skew\",\"kurtosis\",\"std\",\"sem\"],\"D5\":[\"mean\", \"median\",\"skew\",\"kurtosis\",\"std\",\"sem\"],\"K1\":[\"mean\", \"median\",\"skew\",\"kurtosis\",\"std\",\"sem\"],\"K2\":[\"mean\", \"median\",\"skew\",\"kurtosis\",\"std\",\"sem\"],\"K3\":[\"mean\", \"median\",\"skew\",\"kurtosis\",\"std\",\"sem\"],\"K4\":[\"mean\", \"median\",\"skew\",\"kurtosis\",\"std\",\"sem\"],\"K5\":[\"mean\", \"median\",\"skew\",\"kurtosis\",\"std\",\"sem\"]})\n"
   ]
  },
  {
   "cell_type": "code",
   "execution_count": null,
   "metadata": {},
   "outputs": [],
   "source": []
  },
  {
   "cell_type": "markdown",
   "metadata": {},
   "source": [
    "# Since skew of  nearly all data are near to zero and kurtosis is with in the range of -2 to 2, we can conclude that data are normal. Also mean and median are nearly equal which also support the idea of normality."
   ]
  },
  {
   "cell_type": "code",
   "execution_count": null,
   "metadata": {},
   "outputs": [],
   "source": [
    "f = df2.B2\n",
    "sd =f.std()\n",
    "mu = f.mean()\n",
    "a ,b = mu-3*sd, mu+3*sd\n",
    "x = np.linspace(a,b,1000)\n",
    "y = norm.pdf(x, loc = mu, scale = sd)"
   ]
  },
  {
   "cell_type": "code",
   "execution_count": null,
   "metadata": {},
   "outputs": [],
   "source": [
    "\n",
    "\n",
    "plt.plot(x,y,'.g')\n",
    "\n",
    "plt.hist(f,alpha=.5, density = True)\n",
    "plt.savefig(\"diy\")\n"
   ]
  },
  {
   "cell_type": "code",
   "execution_count": null,
   "metadata": {},
   "outputs": [],
   "source": [
    "## QQ plot"
   ]
  },
  {
   "cell_type": "code",
   "execution_count": null,
   "metadata": {},
   "outputs": [],
   "source": [
    "import statsmodels.api as sm \n",
    "import pylab as py "
   ]
  },
  {
   "cell_type": "code",
   "execution_count": null,
   "metadata": {},
   "outputs": [],
   "source": [
    "sm.qqplot(f, fit= True, line = \"45\") \n",
    "plt.savefig(\"Diyaa.png\")\n",
    "py.show() \n"
   ]
  },
  {
   "cell_type": "code",
   "execution_count": null,
   "metadata": {},
   "outputs": [],
   "source": [
    "#Hypothesis testing between two samples: t-test"
   ]
  },
  {
   "cell_type": "code",
   "execution_count": null,
   "metadata": {},
   "outputs": [],
   "source": [
    "df2.head()"
   ]
  },
  {
   "cell_type": "markdown",
   "metadata": {},
   "source": [
    "# Bar diagram with error bars "
   ]
  },
  {
   "cell_type": "markdown",
   "metadata": {},
   "source": [
    "# Bar diagram shows that data are homegeneous more in 'C' than any other. "
   ]
  },
  {
   "cell_type": "code",
   "execution_count": null,
   "metadata": {},
   "outputs": [],
   "source": [
    "# Analysis of variance(ANOVA) with box plots"
   ]
  },
  {
   "cell_type": "code",
   "execution_count": null,
   "metadata": {},
   "outputs": [],
   "source": [
    "df = pd.melt(df2.reset_index(), id_vars=['index'], value_vars=['A1', 'B1', 'C1','A2', 'B2', 'C2','A3', 'B3', 'C3','A4', 'B4', 'C4'])\n",
    "#df"
   ]
  },
  {
   "cell_type": "code",
   "execution_count": null,
   "metadata": {},
   "outputs": [],
   "source": [
    "df.columns = ['SN', 'Group', 'Weight'] \n",
    "df.head()"
   ]
  },
  {
   "cell_type": "code",
   "execution_count": null,
   "metadata": {},
   "outputs": [],
   "source": [
    "import matplotlib.pyplot as plt\n",
    "import seaborn as sns\n",
    "ax = sns.boxplot(x='Group', y='Weight', data=df, color='#99c2a2')\n",
    "#ax = sns.swarmplot(x=\"Group\", y=\"Weight\", data=df, color='#7d0013')\n",
    "plt.savefig('boxplot.png')\n",
    "plt.show()"
   ]
  },
  {
   "cell_type": "code",
   "execution_count": null,
   "metadata": {},
   "outputs": [],
   "source": [
    "import scipy.stats as stats\n",
    "# stats f_oneway functions takes the groups as input and returns ANOVA F and p value"
   ]
  },
  {
   "cell_type": "code",
   "execution_count": null,
   "metadata": {},
   "outputs": [],
   "source": [
    "fvalue, pvalue = stats.f_oneway(df2['A1'], df2['B1'], df2['C1'])\n",
    "print(fvalue, pvalue) "
   ]
  },
  {
   "cell_type": "code",
   "execution_count": null,
   "metadata": {},
   "outputs": [],
   "source": [
    "# Since p value is less than 0.05 (alpha = 0.05),which shows that there is  significant difference between average Weight from temperature group in the first week."
   ]
  },
  {
   "cell_type": "markdown",
   "metadata": {},
   "source": [
    "# Least significant difference (LSD) with pre-hoc test"
   ]
  },
  {
   "cell_type": "code",
   "execution_count": null,
   "metadata": {},
   "outputs": [],
   "source": [
    "df_analysis = pd.read_csv('mahindraanalysis.csv')\n",
    "#df_analysis"
   ]
  },
  {
   "cell_type": "markdown",
   "metadata": {},
   "source": [
    "$$ LSD = t \\sqrt(MSW(1/N))$$ "
   ]
  },
  {
   "cell_type": "markdown",
   "metadata": {},
   "source": [
    "when this value is less than absolute of difference of mean of two group, then we can conclude statistically that these two grops are significantly difference in their mean value. We can do comparision to the remaining two pair of the group. and finally we conclude that the group B is significantly better in the production i.e the temperature associated with it is better. "
   ]
  },
  {
   "cell_type": "markdown",
   "metadata": {},
   "source": [
    "# Curve plot "
   ]
  },
  {
   "cell_type": "code",
   "execution_count": null,
   "metadata": {},
   "outputs": [],
   "source": [
    "from datetime import datetime "
   ]
  },
  {
   "cell_type": "code",
   "execution_count": 27,
   "metadata": {},
   "outputs": [
    {
     "data": {
      "text/html": [
       "<div>\n",
       "<style scoped>\n",
       "    .dataframe tbody tr th:only-of-type {\n",
       "        vertical-align: middle;\n",
       "    }\n",
       "\n",
       "    .dataframe tbody tr th {\n",
       "        vertical-align: top;\n",
       "    }\n",
       "\n",
       "    .dataframe thead th {\n",
       "        text-align: right;\n",
       "    }\n",
       "</style>\n",
       "<table border=\"1\" class=\"dataframe\">\n",
       "  <thead>\n",
       "    <tr style=\"text-align: right;\">\n",
       "      <th></th>\n",
       "      <th>s.n</th>\n",
       "      <th>NJ1</th>\n",
       "      <th>J1</th>\n",
       "      <th>J5</th>\n",
       "      <th>NS</th>\n",
       "      <th>S1</th>\n",
       "      <th>S5</th>\n",
       "      <th>ND</th>\n",
       "      <th>D1</th>\n",
       "      <th>D5</th>\n",
       "      <th>...</th>\n",
       "      <th>SE_J5</th>\n",
       "      <th>SE_NS</th>\n",
       "      <th>SE_S1</th>\n",
       "      <th>SE_S5</th>\n",
       "      <th>SE_ND</th>\n",
       "      <th>SE_D1</th>\n",
       "      <th>SE_D5</th>\n",
       "      <th>SE_NK</th>\n",
       "      <th>SE_K1</th>\n",
       "      <th>SE_K5</th>\n",
       "    </tr>\n",
       "  </thead>\n",
       "  <tbody>\n",
       "    <tr>\n",
       "      <th>0</th>\n",
       "      <td>1</td>\n",
       "      <td>71.42</td>\n",
       "      <td>64.26</td>\n",
       "      <td>14.28</td>\n",
       "      <td>64.26</td>\n",
       "      <td>64.28</td>\n",
       "      <td>7.14</td>\n",
       "      <td>85.68</td>\n",
       "      <td>71.42</td>\n",
       "      <td>14.28</td>\n",
       "      <td>...</td>\n",
       "      <td>1.748936</td>\n",
       "      <td>2.674752</td>\n",
       "      <td>1.753835</td>\n",
       "      <td>1.428</td>\n",
       "      <td>3.639134</td>\n",
       "      <td>2.674752</td>\n",
       "      <td>1.748936</td>\n",
       "      <td>3.193108</td>\n",
       "      <td>2.856</td>\n",
       "      <td>2.856</td>\n",
       "    </tr>\n",
       "    <tr>\n",
       "      <th>1</th>\n",
       "      <td>2</td>\n",
       "      <td>85.68</td>\n",
       "      <td>57.12</td>\n",
       "      <td>14.28</td>\n",
       "      <td>57.12</td>\n",
       "      <td>64.28</td>\n",
       "      <td>7.14</td>\n",
       "      <td>71.42</td>\n",
       "      <td>71.42</td>\n",
       "      <td>7.14</td>\n",
       "      <td>...</td>\n",
       "      <td>NaN</td>\n",
       "      <td>NaN</td>\n",
       "      <td>NaN</td>\n",
       "      <td>NaN</td>\n",
       "      <td>NaN</td>\n",
       "      <td>NaN</td>\n",
       "      <td>NaN</td>\n",
       "      <td>NaN</td>\n",
       "      <td>NaN</td>\n",
       "      <td>NaN</td>\n",
       "    </tr>\n",
       "    <tr>\n",
       "      <th>2</th>\n",
       "      <td>3</td>\n",
       "      <td>78.54</td>\n",
       "      <td>71.42</td>\n",
       "      <td>7.14</td>\n",
       "      <td>64.26</td>\n",
       "      <td>57.12</td>\n",
       "      <td>14.28</td>\n",
       "      <td>71.42</td>\n",
       "      <td>64.28</td>\n",
       "      <td>14.28</td>\n",
       "      <td>...</td>\n",
       "      <td>NaN</td>\n",
       "      <td>NaN</td>\n",
       "      <td>NaN</td>\n",
       "      <td>NaN</td>\n",
       "      <td>NaN</td>\n",
       "      <td>NaN</td>\n",
       "      <td>NaN</td>\n",
       "      <td>NaN</td>\n",
       "      <td>NaN</td>\n",
       "      <td>NaN</td>\n",
       "    </tr>\n",
       "    <tr>\n",
       "      <th>3</th>\n",
       "      <td>4</td>\n",
       "      <td>71.42</td>\n",
       "      <td>71.42</td>\n",
       "      <td>7.14</td>\n",
       "      <td>71.42</td>\n",
       "      <td>64.28</td>\n",
       "      <td>7.14</td>\n",
       "      <td>78.54</td>\n",
       "      <td>57.12</td>\n",
       "      <td>7.14</td>\n",
       "      <td>...</td>\n",
       "      <td>NaN</td>\n",
       "      <td>NaN</td>\n",
       "      <td>NaN</td>\n",
       "      <td>NaN</td>\n",
       "      <td>NaN</td>\n",
       "      <td>NaN</td>\n",
       "      <td>NaN</td>\n",
       "      <td>NaN</td>\n",
       "      <td>NaN</td>\n",
       "      <td>NaN</td>\n",
       "    </tr>\n",
       "    <tr>\n",
       "      <th>4</th>\n",
       "      <td>5</td>\n",
       "      <td>64.26</td>\n",
       "      <td>57.12</td>\n",
       "      <td>14.28</td>\n",
       "      <td>57.12</td>\n",
       "      <td>57.12</td>\n",
       "      <td>7.14</td>\n",
       "      <td>64.26</td>\n",
       "      <td>64.28</td>\n",
       "      <td>14.28</td>\n",
       "      <td>...</td>\n",
       "      <td>NaN</td>\n",
       "      <td>NaN</td>\n",
       "      <td>NaN</td>\n",
       "      <td>NaN</td>\n",
       "      <td>NaN</td>\n",
       "      <td>NaN</td>\n",
       "      <td>NaN</td>\n",
       "      <td>NaN</td>\n",
       "      <td>NaN</td>\n",
       "      <td>NaN</td>\n",
       "    </tr>\n",
       "  </tbody>\n",
       "</table>\n",
       "<p>5 rows × 25 columns</p>\n",
       "</div>"
      ],
      "text/plain": [
       "   s.n    NJ1     J1     J5     NS     S1     S5     ND     D1     D5  ...  \\\n",
       "0    1  71.42  64.26  14.28  64.26  64.28   7.14  85.68  71.42  14.28  ...   \n",
       "1    2  85.68  57.12  14.28  57.12  64.28   7.14  71.42  71.42   7.14  ...   \n",
       "2    3  78.54  71.42   7.14  64.26  57.12  14.28  71.42  64.28  14.28  ...   \n",
       "3    4  71.42  71.42   7.14  71.42  64.28   7.14  78.54  57.12   7.14  ...   \n",
       "4    5  64.26  57.12  14.28  57.12  57.12   7.14  64.26  64.28  14.28  ...   \n",
       "\n",
       "      SE_J5     SE_NS     SE_S1  SE_S5     SE_ND     SE_D1     SE_D5  \\\n",
       "0  1.748936  2.674752  1.753835  1.428  3.639134  2.674752  1.748936   \n",
       "1       NaN       NaN       NaN    NaN       NaN       NaN       NaN   \n",
       "2       NaN       NaN       NaN    NaN       NaN       NaN       NaN   \n",
       "3       NaN       NaN       NaN    NaN       NaN       NaN       NaN   \n",
       "4       NaN       NaN       NaN    NaN       NaN       NaN       NaN   \n",
       "\n",
       "      SE_NK  SE_K1  SE_K5  \n",
       "0  3.193108  2.856  2.856  \n",
       "1       NaN    NaN    NaN  \n",
       "2       NaN    NaN    NaN  \n",
       "3       NaN    NaN    NaN  \n",
       "4       NaN    NaN    NaN  \n",
       "\n",
       "[5 rows x 25 columns]"
      ]
     },
     "execution_count": 27,
     "metadata": {},
     "output_type": "execute_result"
    }
   ],
   "source": [
    "\n",
    "df_curve = pd.read_csv('germ.csv')\n",
    "df_curve.head()\n",
    "#df_curve"
   ]
  },
  {
   "cell_type": "code",
   "execution_count": null,
   "metadata": {},
   "outputs": [],
   "source": [
    "#np.mean(df_curve.J1)"
   ]
  },
  {
   "cell_type": "code",
   "execution_count": 28,
   "metadata": {},
   "outputs": [],
   "source": [
    "x = [\"NJ\",\"J1\",\"J5\",\"NS\",\"S1\",\"S5\",\"ND\",\"D1\",\"D5\",\"NK\",\"K1\",\"K5\"]\n",
    "mean = [np.mean(df_curve.NJ1),np.mean(df_curve.J1),np.mean(df_curve.J5),np.mean(df_curve.NS),np.mean(df_curve.S1),np.mean(df_curve.S5),np.mean(df_curve.ND),np.mean(df_curve.D1),np.mean(df_curve.D5),np.mean(df_curve.NK),np.mean(df_curve.K1),np.mean(df_curve.K5)]\n",
    "Error = [df_curve.SE_NJ[0],df_curve.SE_J1[0],df_curve.SE_J5[0],df_curve.SE_NS[0],df_curve.SE_S1[0],df_curve.SE_S5[0],df_curve.SE_ND[0],df_curve.SE_D1[0],df_curve.SE_D5[0],df_curve.SE_NK[0],df_curve.SE_K1[0],df_curve.SE_K5[0]]"
   ]
  },
  {
   "cell_type": "code",
   "execution_count": 51,
   "metadata": {},
   "outputs": [
    {
     "data": {
      "image/png": "[encoded data removed]",
      "text/plain": [
       "<Figure size 360x360 with 1 Axes>"
      ]
     },
     "metadata": {
      "needs_background": "light"
     },
     "output_type": "display_data"
    }
   ],
   "source": [
    "plt.figure(figsize=(5,5)) \n",
    "import matplotlib \n",
    "plt.rcParams[\"font.family\"] = \"Times New Roman\" \n",
    "csfont = {'fontname':'Times New Roman'}\n",
    "matplotlib.rc('xtick', labelsize=10) \n",
    "matplotlib.rc('ytick', labelsize=10) \n",
    "#plt.ylim(5, 85)\n",
    "plt.xlabel(\"Temperature Group\",fontsize=10)\n",
    "plt.ylabel(\"Germination (Percentage)\",fontsize =10)\n",
    "#plt.title('title',**csfont)\n",
    "plt.title(\"Bar diagram of the germination with error bars\",fontsize =10)\n",
    "plt.bar(x,mean,yerr = Error, color='lightgray', ec = 'red',capsize =5)\n",
    "plt.savefig(\"hasta_germination.jpeg\", dpi =100)"
   ]
  },
  {
   "cell_type": "code",
   "execution_count": 32,
   "metadata": {},
   "outputs": [],
   "source": [
    "\n",
    "#df_c[\"Week\"] = pd.to_datetime(df_c[\"Week\"])   if week contains date then we have to type:\n",
    "#df_c.info()"
   ]
  },
  {
   "cell_type": "code",
   "execution_count": null,
   "metadata": {},
   "outputs": [],
   "source": [
    "# Ordinary Least Squares (OLS) model\n",
    "#model = ols('Refractive_index ~ C(Locations)', data=df_melt).fit()\n",
    "#anova_table = sm.stats.anova_lm(model, typ=2)\n",
    "#anova_table "
   ]
  },
  {
   "cell_type": "code",
   "execution_count": null,
   "metadata": {},
   "outputs": [],
   "source": [
    "# Since p value is greater than 0.05 (alpha = 0.05),which shows that there is no significant difference between average refractive index from different sources of water.\n"
   ]
  },
  {
   "cell_type": "code",
   "execution_count": null,
   "metadata": {},
   "outputs": [],
   "source": [
    "#np.cov(data)\n",
    "# correlation between x and y\n",
    "# t test\n",
    "# result significance from p value"
   ]
  },
  {
   "cell_type": "code",
   "execution_count": null,
   "metadata": {},
   "outputs": [],
   "source": [
    "# https://www.statsmodels.org/stable/generated/statsmodels.graphics.gofplots.qqplot.html\n",
    "# https://www.youtube.com/watch?v=F6kmIpWWEdU \n",
    "#https://www.youtube.com/watch?v=CGF9YnkNul8 \n",
    "#https://www.reneshbedre.com/blog/anova.html\n",
    "# https://www.youtube.com/watch?v=0Q5LaJG3DmM \n",
    "# https://www.youtube.com/watch?v=EG8AF2B_dps&ab_channel=OxfordAcademic%28OxfordUniversityPress%29"
   ]
  },
  {
   "cell_type": "code",
   "execution_count": null,
   "metadata": {},
   "outputs": [],
   "source": [
    "# https://github.com/dharmapaudel "
   ]
  }
 ],
 "metadata": {
  "kernelspec": {
   "display_name": "Python 3",
   "language": "python",
   "name": "python3"
  },
  "language_info": {
   "codemirror_mode": {
    "name": "ipython",
    "version": 3
   },
   "file_extension": ".py",
   "mimetype": "text/x-python",
   "name": "python",
   "nbconvert_exporter": "python",
   "pygments_lexer": "ipython3",
   "version": "3.7.10"
  }
 },
 "nbformat": 4,
 "nbformat_minor": 2
}
